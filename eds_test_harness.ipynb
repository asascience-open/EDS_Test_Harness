{
 "cells": [
  {
   "cell_type": "markdown",
   "metadata": {},
   "source": [
    "# EDS Test Harness\n",
    "This notebook can be used to test the EDS web services. It is interactive and users can modify it as they see fit. Modifcations to this notebook will be available to the user while they are actively using the notebook, they are not saved for future sessions.\n",
    "\n",
    "Instructions\n",
    "\n",
    "**1: Setup**\n",
    "* Verify the value of the variable client_key is the provided key: saropsproposal\n",
    "* Use the Run button above to set the key\n",
    "\n",
    "**2: Get Data Catalog**\n",
    "* Run the 'Get Data Catalog' box by pressing the Run button again\n",
    "\n",
    "**3: Request Configuration**\n",
    "* Edit the variables in the 'Get Data Request Configuration' box to specify an EDS data request. Use the results from the 'Get Data Catalog' request to set the 'dataset_id' and 'source' variables. The source is the header text for each dataset. The 'Get Data Request' box contains a default request for HYCOM_GLOBAL data that can be run as an example\n",
    "* Run the 'Get Data Request Configuration' Box\n",
    "\n",
    "**4: Get Data Request**\n",
    "* Run the 'Get Data Request' box. This code will make a GetData request to EDS. When the file name is returned, it then makes a GetStatus request to EDS until a status of 'COMPLETE' is returned. When GetStatus returns 'COMPLETE', a Downloadfile request is made and a netCDF file is downloaded to the cloud machine running this notebook. A link will be displayed to the user that they can click to download the file from the cloud to their local machine.\n",
    "* Click on the link to download the netCDF file to your local machine"
   ]
  },
  {
   "cell_type": "code",
   "execution_count": null,
   "metadata": {},
   "outputs": [],
   "source": [
    "# Test Configuration Box\n",
    "\n",
    "# Set the client key to use\n",
    "client_key = \"change_me_to_provided_key\"\n",
    "\n"
   ]
  },
  {
   "cell_type": "code",
   "execution_count": null,
   "metadata": {},
   "outputs": [],
   "source": [
    "# Get Data Catalog Box\n",
    "# Gets the Data Catalog from EDS \n",
    "import zeep\n",
    "import xml.etree.ElementTree as ET \n",
    "import datetime\n",
    "eds_wsdl = \"http://coastmap.com/eds20/eds.asmx?wsdl\"\n",
    "client = zeep.Client(wsdl=eds_wsdl)\n",
    "\n",
    "# get the catalog from EDS\n",
    "get_catalog = client.service.GetDataCoverage(clientKey=client_key)\n",
    "root = ET.fromstring(get_catalog) \n",
    "\n",
    "print('Datasets available for client_key:', client_key)\n",
    "# create empty list for news items \n",
    "for item in root.findall('dataset'):\n",
    "    print(item.attrib['source'])\n",
    "    print(\"   ID:          \",item.attrib['id'])\n",
    "    print(\"   Name:        \",item.attrib['shortname'])\n",
    "    print(\"   Description: \",item.attrib['description'])\n",
    "    print(\"   Time span:   \",item.attrib['starttime'],item.attrib['endtime'])\n",
    "    print(\"   Lon Extents: \",item.attrib['extentleft'],item.attrib['extentright'])\n",
    "    print(\"   Lat Extents: \",item.attrib['extenttop'],item.attrib['extentbottom'])\n"
   ]
  },
  {
   "cell_type": "code",
   "execution_count": null,
   "metadata": {},
   "outputs": [],
   "source": [
    "# Get Data Request Configuration Box\n",
    "# Define the request - Change values\n",
    "# Get the ID and source from the data catalog results above\n",
    "dataset_ID = 696 \n",
    "source = \"HYCOM_GLOBAL\"\n",
    "lon_min = -80.5\n",
    "lon_max = -80\n",
    "lat_min = 30.5\n",
    "lat_max = 40.0\n",
    "start_time = datetime.datetime(2020,1,12,6,0,0)\n",
    "end_time = datetime.datetime(2020,1,14,3,0,0)\n",
    "\n"
   ]
  },
  {
   "cell_type": "code",
   "execution_count": null,
   "metadata": {},
   "outputs": [],
   "source": [
    "# Get Data Request Box\n",
    "# Make a request to EDS to download the data for the request \n",
    "from time import sleep\n",
    "import os\n",
    "from IPython.display import FileLink, FileLinks\n",
    "request_id = client.service.GetData(Key=client_key,\n",
    "                                    SourceID=dataset_ID,\n",
    "                                    SourceName=source,\n",
    "                                    OutputType=1,\n",
    "                                    StartDate=start_time,\n",
    "                                    EndDate=end_time,\n",
    "                                    X1=lon_min,\n",
    "                                    X2=lon_max,\n",
    "                                    Y1=lat_min,\n",
    "                                    Y2=lat_max,\n",
    "                                    Zipped=True)\n",
    "print(request_id)\n",
    "status = None\n",
    "while status is None or 'IN_PROCESS' in status:\n",
    "    sleep(2)\n",
    "    status = client.service.GetStatus(request_id)\n",
    "    if status is not None:\n",
    "        print('status= '+ status)\n",
    "        if 'COMPLETE' in status:\n",
    "            print('start download')\n",
    "            download_suc = client.service.DownloadFile(request_id)\n",
    "            nc_path = os.path.join(\".\", request_id)\n",
    "            with open(nc_path,'wb') as f:\n",
    "                    f.write(download_suc)\n",
    "                    \n",
    "            \n",
    "            print(\"Click the link to download the file to your local machine\")\n",
    "            display(FileLink(nc_path))\n",
    "            "
   ]
  },
  {
   "cell_type": "code",
   "execution_count": null,
   "metadata": {},
   "outputs": [],
   "source": []
  }
 ],
 "metadata": {
  "kernelspec": {
   "display_name": "Python 3",
   "language": "python",
   "name": "python3"
  },
  "language_info": {
   "codemirror_mode": {
    "name": "ipython",
    "version": 3
   },
   "file_extension": ".py",
   "mimetype": "text/x-python",
   "name": "python",
   "nbconvert_exporter": "python",
   "pygments_lexer": "ipython3",
   "version": "3.6.4"
  }
 },
 "nbformat": 4,
 "nbformat_minor": 2
}
