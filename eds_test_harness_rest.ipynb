{
 "cells": [
  {
   "cell_type": "markdown",
   "id": "f9bd9b91-28a1-4c2f-83ba-1514f53d6496",
   "metadata": {},
   "source": [
    "# EDS Test Harness\n",
    "This notebook can be used to test the EDS web services. It is interactive and users can modify it as they see fit. Modifcations to this notebook will be available to the user while they are actively using the notebook, they are not saved for future sessions.\n",
    "\n",
    "Instructions\n",
    "\n",
    "**1: Setup**\n",
    "* Enter the client key that should be used for all requests\n",
    "* Enter the api key that should be used for all requests\n",
    "* Use the Run button above to set the key\n",
    "\n",
    "**2: Get Data Catalog**\n",
    "* Run the 'Get Data Catalog' box by pressing the Run button again\n",
    "\n",
    "**3: Request Configuration**\n",
    "* Edit the variables in the 'Get Data Request Configuration' box to specify an EDS data request. Use the results from the 'Get Data Catalog' request to set the 'dataset_id' and 'source' variables. The source is the header text for each dataset. The 'Get Data Request' box contains a default request for HYCOM_GLOBAL data that can be run as an example\n",
    "* Run the 'Get Data Request Configuration' Box\n",
    "\n",
    "**4: Get Data Request**\n",
    "* Run the 'Get Data Request' box. This code will make a GetData request to EDS. When the file name is returned, it then makes a GetStatus request to EDS until a status of 'COMPLETE' is returned. When GetStatus returns 'COMPLETE', a Downloadfile request is made and a netCDF file is downloaded to the cloud machine running this notebook. A link will be displayed to the user that they can click to download the file from the cloud to their local machine.\n",
    "* Click on the link to download the netCDF file to your local machine"
   ]
  },
  {
   "cell_type": "code",
   "execution_count": null,
   "id": "ef31c328-34ec-4d64-866c-40ebd1a9a7be",
   "metadata": {},
   "outputs": [],
   "source": [
    "# Test Configuration Box\n",
    "\n",
    "import requests\n",
    "import json\n",
    "from time import sleep\n",
    "\n",
    "client_key = \"\"\n",
    "api_key=\"\"\n",
    "eds_rest_url=\"https://coastmap.com/edsrest/\""
   ]
  },
  {
   "cell_type": "code",
   "execution_count": null,
   "id": "e2794357-7fd4-46f1-aec3-3536a51cf89f",
   "metadata": {},
   "outputs": [],
   "source": [
    "# Get Data Catalog Box\n",
    "# Gets the Data Catalog from EDS \n",
    "\n",
    "catalog_req = requests.get(f\"{eds_rest_url}datacoverage/{client_key}\", \n",
    "           headers={'api-key':api_key}, params={'resultType':'Normal'})\n",
    "data = json.loads(catalog_req.text)\n",
    "for source in data:\n",
    "    print(source['source'])\n",
    "    print(f\"   ID: {source['id']}\")\n",
    "    print(f\"   Name: {source['name']}\")\n",
    "    print(f\"   Description: {source['description']}\")\n",
    "    print(f\"   Time span: {source['starttime']}-{source['endtime']}\")\n",
    "    print(f\"   Longitude extents: {source['extentleft']}-{source['extentright']}\")\n",
    "    print(f\"   Latitude extents: {source['extentbottom']}-{source['extenttop']}\")"
   ]
  },
  {
   "cell_type": "code",
   "execution_count": null,
   "id": "759bea20-a36d-41e1-b5ba-fce7c967a798",
   "metadata": {},
   "outputs": [],
   "source": [
    "# Get Data Request Configuration Box\n",
    "# Define the request - Change values\n",
    "# Get the ID and source from the data catalog results above\n",
    "dataset_ID = 696 \n",
    "source = \"HYCOM_GLOBAL\"\n",
    "lon_min = -80.5\n",
    "lon_max = -80\n",
    "lat_min = 30.5\n",
    "lat_max = 40.0\n",
    "start_time = '2025-09-12 06:00'\n",
    "end_time = '2025-09-14 03:00'"
   ]
  },
  {
   "cell_type": "code",
   "execution_count": null,
   "id": "da6fa9af-7d2d-469e-acdf-2814176d785a",
   "metadata": {},
   "outputs": [],
   "source": [
    "# Get Data Request Box\n",
    "# Make a request to EDS to download the data for the request \n",
    "data_req = requests.post(f\"{eds_rest_url}/data\",json ={\"ClientKey\": client_key,\n",
    "       \"SourceId\" : dataset_ID,\n",
    "       \"SourceName\": source,\n",
    "       \"OutputType\" : 0,\n",
    "       \"StartDate\" : start_time,\n",
    "       \"EndDate\" : end_time,\n",
    "       \"X1\" : lon_min,\n",
    "       \"X2\" : lon_max,\n",
    "       \"Y1\" : lat_min,\n",
    "       \"Y2\": lat_max}, headers = {'api-key':api_key,'Content-Type':'application/json'})\n",
    "req_id = json.loads(data_req.text)\n",
    "print(f\"Request ID: {req_id}\")\n",
    "while(1):\n",
    "   status_req = requests.get(f\"{eds_rest_url}orders/status/{req_id}\",headers = {'api-key':api_key})\n",
    "   status = json.loads(status_req.text)\n",
    "   if(\"IN_PR\" not in status): break\n",
    "   sleep(2)\n",
    "if status != \"ERROR\":\n",
    "   nc_req = requests.get(f\"https://coastmap.com/edsoutput/{req_id}\")\n",
    "   with open(req_id,\"wb\") as nc_f:\n",
    "       nc_f.write(nc_req.content)\n",
    "   print(f\"Downloaded file: {req_id}\")"
   ]
  },
  {
   "cell_type": "code",
   "execution_count": null,
   "id": "2160d041-0d55-4eb5-8d30-ffc3a997a6e8",
   "metadata": {},
   "outputs": [],
   "source": []
  }
 ],
 "metadata": {
  "kernelspec": {
   "display_name": "Python 3 (ipykernel)",
   "language": "python",
   "name": "python3"
  },
  "language_info": {
   "codemirror_mode": {
    "name": "ipython",
    "version": 3
   },
   "file_extension": ".py",
   "mimetype": "text/x-python",
   "name": "python",
   "nbconvert_exporter": "python",
   "pygments_lexer": "ipython3",
   "version": "3.11.1"
  }
 },
 "nbformat": 4,
 "nbformat_minor": 5
}
